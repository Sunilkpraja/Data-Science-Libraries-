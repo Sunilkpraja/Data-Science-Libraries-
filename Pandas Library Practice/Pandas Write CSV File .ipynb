{
 "cells": [
  {
   "cell_type": "markdown",
   "metadata": {},
   "source": [
    "Write csv file means to do some operations for data preprocessing or data cleaning.Data preprocessing is a data mining technique that involves transforming raw data into an understandable format."
   ]
  },
  {
   "cell_type": "code",
   "execution_count": 1,
   "metadata": {},
   "outputs": [],
   "source": [
    "import pandas as pd"
   ]
  },
  {
   "cell_type": "code",
   "execution_count": 2,
   "metadata": {},
   "outputs": [
    {
     "name": "stdout",
     "output_type": "stream",
     "text": [
      "            Date       Open       High        Low      Close  Adj Close  \\\n",
      "0     2003-12-31  15.200000  15.200000  14.810000  14.900000  14.900000   \n",
      "1     2004-01-02  15.100000  15.110000  14.770000  14.860000  14.860000   \n",
      "2     2004-01-05  15.050000  15.270000  15.010000  15.200000  15.200000   \n",
      "3     2004-01-06  15.210000  15.820000  15.050000  15.610000  15.610000   \n",
      "4     2004-01-07  15.780000  15.990000  15.490000  15.660000  15.660000   \n",
      "...          ...        ...        ...        ...        ...        ...   \n",
      "3948  2019-09-09  30.930000  31.180000  30.240000  30.500000  30.500000   \n",
      "3949  2019-09-10  30.219999  30.379999  29.770000  30.230000  30.230000   \n",
      "3950  2019-09-11  30.379999  30.430000  29.510000  29.760000  29.760000   \n",
      "3951  2019-09-12  30.080000  30.840000  29.950001  30.209999  30.209999   \n",
      "3952  2019-09-13  30.270000  30.850000  29.950001  30.690001  30.690001   \n",
      "\n",
      "        Volume  \n",
      "0      7395900  \n",
      "1      8220700  \n",
      "2      9156000  \n",
      "3     14592200  \n",
      "4     15329300  \n",
      "...        ...  \n",
      "3948  54413200  \n",
      "3949  48604800  \n",
      "3950  50631700  \n",
      "3951  53618300  \n",
      "3952  47758800  \n",
      "\n",
      "[3953 rows x 7 columns]\n"
     ]
    }
   ],
   "source": [
    "df = pd.read_csv('C:\\\\Users\\\\SUNIL\\\\Pandas Library Practice\\\\Pandas Project\\\\Stock-Market-Analysis-master\\\\AMD.csv')\n",
    "print(df)"
   ]
  },
  {
   "cell_type": "markdown",
   "metadata": {},
   "source": [
    "To know the type of the dataset use type function"
   ]
  },
  {
   "cell_type": "code",
   "execution_count": 3,
   "metadata": {},
   "outputs": [
    {
     "data": {
      "text/plain": [
       "pandas.core.frame.DataFrame"
      ]
     },
     "execution_count": 3,
     "metadata": {},
     "output_type": "execute_result"
    }
   ],
   "source": [
    "type(df)"
   ]
  },
  {
   "cell_type": "code",
   "execution_count": 4,
   "metadata": {},
   "outputs": [
    {
     "data": {
      "text/html": [
       "<div>\n",
       "<style scoped>\n",
       "    .dataframe tbody tr th:only-of-type {\n",
       "        vertical-align: middle;\n",
       "    }\n",
       "\n",
       "    .dataframe tbody tr th {\n",
       "        vertical-align: top;\n",
       "    }\n",
       "\n",
       "    .dataframe thead th {\n",
       "        text-align: right;\n",
       "    }\n",
       "</style>\n",
       "<table border=\"1\" class=\"dataframe\">\n",
       "  <thead>\n",
       "    <tr style=\"text-align: right;\">\n",
       "      <th></th>\n",
       "      <th>Date</th>\n",
       "      <th>Open</th>\n",
       "      <th>High</th>\n",
       "      <th>Low</th>\n",
       "      <th>Close</th>\n",
       "      <th>Adj Close</th>\n",
       "      <th>Volume</th>\n",
       "    </tr>\n",
       "  </thead>\n",
       "  <tbody>\n",
       "    <tr>\n",
       "      <td>0</td>\n",
       "      <td>2003-12-31</td>\n",
       "      <td>15.20</td>\n",
       "      <td>15.20</td>\n",
       "      <td>14.81</td>\n",
       "      <td>14.90</td>\n",
       "      <td>14.90</td>\n",
       "      <td>7395900</td>\n",
       "    </tr>\n",
       "    <tr>\n",
       "      <td>1</td>\n",
       "      <td>2004-01-02</td>\n",
       "      <td>15.10</td>\n",
       "      <td>15.11</td>\n",
       "      <td>14.77</td>\n",
       "      <td>14.86</td>\n",
       "      <td>14.86</td>\n",
       "      <td>8220700</td>\n",
       "    </tr>\n",
       "    <tr>\n",
       "      <td>2</td>\n",
       "      <td>2004-01-05</td>\n",
       "      <td>15.05</td>\n",
       "      <td>15.27</td>\n",
       "      <td>15.01</td>\n",
       "      <td>15.20</td>\n",
       "      <td>15.20</td>\n",
       "      <td>9156000</td>\n",
       "    </tr>\n",
       "    <tr>\n",
       "      <td>3</td>\n",
       "      <td>2004-01-06</td>\n",
       "      <td>15.21</td>\n",
       "      <td>15.82</td>\n",
       "      <td>15.05</td>\n",
       "      <td>15.61</td>\n",
       "      <td>15.61</td>\n",
       "      <td>14592200</td>\n",
       "    </tr>\n",
       "    <tr>\n",
       "      <td>4</td>\n",
       "      <td>2004-01-07</td>\n",
       "      <td>15.78</td>\n",
       "      <td>15.99</td>\n",
       "      <td>15.49</td>\n",
       "      <td>15.66</td>\n",
       "      <td>15.66</td>\n",
       "      <td>15329300</td>\n",
       "    </tr>\n",
       "  </tbody>\n",
       "</table>\n",
       "</div>"
      ],
      "text/plain": [
       "         Date   Open   High    Low  Close  Adj Close    Volume\n",
       "0  2003-12-31  15.20  15.20  14.81  14.90      14.90   7395900\n",
       "1  2004-01-02  15.10  15.11  14.77  14.86      14.86   8220700\n",
       "2  2004-01-05  15.05  15.27  15.01  15.20      15.20   9156000\n",
       "3  2004-01-06  15.21  15.82  15.05  15.61      15.61  14592200\n",
       "4  2004-01-07  15.78  15.99  15.49  15.66      15.66  15329300"
      ]
     },
     "execution_count": 4,
     "metadata": {},
     "output_type": "execute_result"
    }
   ],
   "source": [
    "df.head()"
   ]
  },
  {
   "cell_type": "markdown",
   "metadata": {},
   "source": [
    "To know all the columns name"
   ]
  },
  {
   "cell_type": "code",
   "execution_count": 5,
   "metadata": {},
   "outputs": [
    {
     "data": {
      "text/plain": [
       "Index(['Date', 'Open', 'High', 'Low', 'Close', 'Adj Close', 'Volume'], dtype='object')"
      ]
     },
     "execution_count": 5,
     "metadata": {},
     "output_type": "execute_result"
    }
   ],
   "source": [
    "df.columns"
   ]
  },
  {
   "cell_type": "markdown",
   "metadata": {},
   "source": [
    "If you want to read some specific rows of the dataset use nrows parameters"
   ]
  },
  {
   "cell_type": "code",
   "execution_count": 6,
   "metadata": {},
   "outputs": [
    {
     "name": "stdout",
     "output_type": "stream",
     "text": [
      "         Date   Open   High    Low  Close  Adj Close    Volume\n",
      "0  2003-12-31  15.20  15.20  14.81  14.90      14.90   7395900\n",
      "1  2004-01-02  15.10  15.11  14.77  14.86      14.86   8220700\n",
      "2  2004-01-05  15.05  15.27  15.01  15.20      15.20   9156000\n",
      "3  2004-01-06  15.21  15.82  15.05  15.61      15.61  14592200\n",
      "4  2004-01-07  15.78  15.99  15.49  15.66      15.66  15329300\n"
     ]
    }
   ],
   "source": [
    "df = pd.read_csv('C:\\\\Users\\\\SUNIL\\\\Pandas Library Practice\\\\Pandas Project\\\\Stock-Market-Analysis-master\\\\AMD.csv', nrows = 5)\n",
    "print(df)"
   ]
  },
  {
   "cell_type": "code",
   "execution_count": 7,
   "metadata": {},
   "outputs": [
    {
     "name": "stdout",
     "output_type": "stream",
     "text": [
      "         Date    Volume\n",
      "0  2003-12-31   7395900\n",
      "1  2004-01-02   8220700\n",
      "2  2004-01-05   9156000\n",
      "3  2004-01-06  14592200\n",
      "4  2004-01-07  15329300\n"
     ]
    }
   ],
   "source": [
    "df = pd.read_csv('C:\\\\Users\\\\SUNIL\\\\Pandas Library Practice\\\\Pandas Project\\\\Stock-Market-Analysis-master\\\\AMD.csv', nrows = 5,usecols = [0,6])\n",
    "print(df)"
   ]
  },
  {
   "cell_type": "code",
   "execution_count": 8,
   "metadata": {},
   "outputs": [
    {
     "name": "stdout",
     "output_type": "stream",
     "text": [
      "            Date       Open       High        Low      Close  Adj Close  \\\n",
      "0     2003-12-31  15.200000  15.200000  14.810000  14.900000  14.900000   \n",
      "1     2004-01-02  15.100000  15.110000  14.770000  14.860000  14.860000   \n",
      "2     2004-01-06  15.210000  15.820000  15.050000  15.610000  15.610000   \n",
      "3     2004-01-07  15.780000  15.990000  15.490000  15.660000  15.660000   \n",
      "4     2004-01-08  15.950000  16.000000  15.590000  15.930000  15.930000   \n",
      "...          ...        ...        ...        ...        ...        ...   \n",
      "3947  2019-09-09  30.930000  31.180000  30.240000  30.500000  30.500000   \n",
      "3948  2019-09-10  30.219999  30.379999  29.770000  30.230000  30.230000   \n",
      "3949  2019-09-11  30.379999  30.430000  29.510000  29.760000  29.760000   \n",
      "3950  2019-09-12  30.080000  30.840000  29.950001  30.209999  30.209999   \n",
      "3951  2019-09-13  30.270000  30.850000  29.950001  30.690001  30.690001   \n",
      "\n",
      "        Volume  \n",
      "0      7395900  \n",
      "1      8220700  \n",
      "2     14592200  \n",
      "3     15329300  \n",
      "4     11764600  \n",
      "...        ...  \n",
      "3947  54413200  \n",
      "3948  48604800  \n",
      "3949  50631700  \n",
      "3950  53618300  \n",
      "3951  47758800  \n",
      "\n",
      "[3952 rows x 7 columns]\n"
     ]
    }
   ],
   "source": [
    "df = pd.read_csv('C:\\\\Users\\\\SUNIL\\\\Pandas Library Practice\\\\Pandas Project\\\\Stock-Market-Analysis-master\\\\AMD.csv', skiprows = [3])\n",
    "print(df)"
   ]
  },
  {
   "cell_type": "code",
   "execution_count": 9,
   "metadata": {},
   "outputs": [
    {
     "name": "stdout",
     "output_type": "stream",
     "text": [
      "                 Open       High        Low      Close  Adj Close    Volume\n",
      "Date                                                                       \n",
      "2003-12-31  15.200000  15.200000  14.810000  14.900000  14.900000   7395900\n",
      "2004-01-02  15.100000  15.110000  14.770000  14.860000  14.860000   8220700\n",
      "2004-01-05  15.050000  15.270000  15.010000  15.200000  15.200000   9156000\n",
      "2004-01-06  15.210000  15.820000  15.050000  15.610000  15.610000  14592200\n",
      "2004-01-07  15.780000  15.990000  15.490000  15.660000  15.660000  15329300\n",
      "...               ...        ...        ...        ...        ...       ...\n",
      "2019-09-09  30.930000  31.180000  30.240000  30.500000  30.500000  54413200\n",
      "2019-09-10  30.219999  30.379999  29.770000  30.230000  30.230000  48604800\n",
      "2019-09-11  30.379999  30.430000  29.510000  29.760000  29.760000  50631700\n",
      "2019-09-12  30.080000  30.840000  29.950001  30.209999  30.209999  53618300\n",
      "2019-09-13  30.270000  30.850000  29.950001  30.690001  30.690001  47758800\n",
      "\n",
      "[3953 rows x 6 columns]\n"
     ]
    }
   ],
   "source": [
    "df = pd.read_csv('C:\\\\Users\\\\SUNIL\\\\Pandas Library Practice\\\\Pandas Project\\\\Stock-Market-Analysis-master\\\\AMD.csv', low_memory=True,index_col= 'Date')\n",
    "print(df)"
   ]
  },
  {
   "cell_type": "code",
   "execution_count": 14,
   "metadata": {},
   "outputs": [
    {
     "name": "stdout",
     "output_type": "stream",
     "text": [
      "            Date       Open       High        Low      Close  Adj Close  \\\n",
      "0     2003-12-31  15.200000  15.200000  14.810000  14.900000  14.900000   \n",
      "1     2004-01-02  15.100000  15.110000  14.770000  14.860000  14.860000   \n",
      "2     2004-01-05  15.050000  15.270000  15.010000  15.200000  15.200000   \n",
      "3     2004-01-06  15.210000  15.820000  15.050000  15.610000  15.610000   \n",
      "4     2004-01-07  15.780000  15.990000  15.490000  15.660000  15.660000   \n",
      "...          ...        ...        ...        ...        ...        ...   \n",
      "3948  2019-09-09  30.930000  31.180000  30.240000  30.500000  30.500000   \n",
      "3949  2019-09-10  30.219999  30.379999  29.770000  30.230000  30.230000   \n",
      "3950  2019-09-11  30.379999  30.430000  29.510000  29.760000  29.760000   \n",
      "3951  2019-09-12  30.080000  30.840000  29.950001  30.209999  30.209999   \n",
      "3952  2019-09-13  30.270000  30.850000  29.950001  30.690001  30.690001   \n",
      "\n",
      "        Volume  \n",
      "0      7395900  \n",
      "1      8220700  \n",
      "2      9156000  \n",
      "3     14592200  \n",
      "4     15329300  \n",
      "...        ...  \n",
      "3948  54413200  \n",
      "3949  48604800  \n",
      "3950  50631700  \n",
      "3951  53618300  \n",
      "3952  47758800  \n",
      "\n",
      "[3953 rows x 7 columns]\n"
     ]
    }
   ],
   "source": [
    "df = pd.read_csv('C:\\\\Users\\\\SUNIL\\\\Pandas Library Practice\\\\Pandas Project\\\\Stock-Market-Analysis-master\\\\AMD.csv', na_filter = True)\n",
    "print(df)"
   ]
  },
  {
   "cell_type": "code",
   "execution_count": 15,
   "metadata": {},
   "outputs": [
    {
     "name": "stdout",
     "output_type": "stream",
     "text": [
      "            Date       Open       High        Low      Close  Adj Close  \\\n",
      "0     2003-12-31  15.200000  15.200000  14.810000  14.900000  14.900000   \n",
      "1     2004-01-02  15.100000  15.110000  14.770000  14.860000  14.860000   \n",
      "2     2004-01-05  15.050000  15.270000  15.010000  15.200000  15.200000   \n",
      "3     2004-01-06  15.210000  15.820000  15.050000  15.610000  15.610000   \n",
      "4     2004-01-07  15.780000  15.990000  15.490000  15.660000  15.660000   \n",
      "...          ...        ...        ...        ...        ...        ...   \n",
      "3948  2019-09-09  30.930000  31.180000  30.240000  30.500000  30.500000   \n",
      "3949  2019-09-10  30.219999  30.379999  29.770000  30.230000  30.230000   \n",
      "3950  2019-09-11  30.379999  30.430000  29.510000  29.760000  29.760000   \n",
      "3951  2019-09-12  30.080000  30.840000  29.950001  30.209999  30.209999   \n",
      "3952  2019-09-13  30.270000  30.850000  29.950001  30.690001  30.690001   \n",
      "\n",
      "        Volume  \n",
      "0      7395900  \n",
      "1      8220700  \n",
      "2      9156000  \n",
      "3     14592200  \n",
      "4     15329300  \n",
      "...        ...  \n",
      "3948  54413200  \n",
      "3949  48604800  \n",
      "3950  50631700  \n",
      "3951  53618300  \n",
      "3952  47758800  \n",
      "\n",
      "[3953 rows x 7 columns]\n"
     ]
    }
   ],
   "source": [
    "df = pd.read_csv('C:\\\\Users\\\\SUNIL\\\\Pandas Library Practice\\\\Pandas Project\\\\Stock-Market-Analysis-master\\\\AMD.csv')\n",
    "print(df)"
   ]
  },
  {
   "cell_type": "code",
   "execution_count": 16,
   "metadata": {},
   "outputs": [
    {
     "data": {
      "text/plain": [
       "Date         0\n",
       "Open         0\n",
       "High         0\n",
       "Low          0\n",
       "Close        0\n",
       "Adj Close    0\n",
       "Volume       0\n",
       "dtype: int64"
      ]
     },
     "execution_count": 16,
     "metadata": {},
     "output_type": "execute_result"
    }
   ],
   "source": [
    "df.isnull().sum()"
   ]
  },
  {
   "cell_type": "code",
   "execution_count": null,
   "metadata": {},
   "outputs": [],
   "source": []
  }
 ],
 "metadata": {
  "kernelspec": {
   "display_name": "Python 3",
   "language": "python",
   "name": "python3"
  },
  "language_info": {
   "codemirror_mode": {
    "name": "ipython",
    "version": 3
   },
   "file_extension": ".py",
   "mimetype": "text/x-python",
   "name": "python",
   "nbconvert_exporter": "python",
   "pygments_lexer": "ipython3",
   "version": "3.7.4"
  }
 },
 "nbformat": 4,
 "nbformat_minor": 2
}
